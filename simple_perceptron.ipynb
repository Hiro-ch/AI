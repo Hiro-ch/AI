{
  "nbformat": 4,
  "nbformat_minor": 0,
  "metadata": {
    "colab": {
      "provenance": [],
      "authorship_tag": "ABX9TyMkBHsBULeS0cA0uUNZ5Vkr",
      "include_colab_link": true
    },
    "kernelspec": {
      "name": "python3",
      "display_name": "Python 3"
    },
    "language_info": {
      "name": "python"
    }
  },
  "cells": [
    {
      "cell_type": "markdown",
      "metadata": {
        "id": "view-in-github",
        "colab_type": "text"
      },
      "source": [
        "<a href=\"https://colab.research.google.com/github/Hiro-ch/AI/blob/main/simple_perceptron.ipynb\" target=\"_parent\"><img src=\"https://colab.research.google.com/assets/colab-badge.svg\" alt=\"Open In Colab\"/></a>"
      ]
    },
    {
      "cell_type": "code",
      "execution_count": null,
      "metadata": {
        "id": "A2T5UbWS-5lf"
      },
      "outputs": [],
      "source": [
        "import numpy as np\n",
        "\n",
        "print(\"入力データの一つ目の値は1です。\")\n",
        "x1 = float(input(\"入力データの二つ目を入力してください：\"))\n",
        "x2 = float(input(\"入力データの三つ目を入力してください：\"))\n",
        "\n",
        "w0 = float(input(\"一つ目の重みを入力してください：\"))\n",
        "w1 = float(input(\"二つ目の重みを入力してください：\"))\n",
        "w2 = float(input(\"三つめの重みを入力してください：\"))\n",
        "\n",
        "#入力データ\n",
        "x = np.array([1, x1, x2])\n",
        "\n",
        "#重み\n",
        "w = np.array([w0,w1,w2])\n",
        "\n",
        "#正解ラベル\n",
        "y = int(input(\"正解ラベルを0か1で入力してください：\"))\n",
        "\n",
        "#学習率を小さくすればするほど重みの更新のための計算回数が増える\n",
        "p = float(input(\"学習率を入力してください：\"))\n",
        "print(\"入力データを\",str(x),\"重みを\",str(w),\"正解ラベルを\",str(y),\"学習率を\",str(p),\"として単純パーセプトロンを実行します。\")\n",
        "print()\n",
        "\n",
        "#重みの更新をする前の重み付け和とステップ関数による出力\n",
        "weighted_sum = x[0]*w[0] + x[1]*w[1] + x[2]*w[2]\n",
        "if weighted_sum > 0:\n",
        "  output = 1\n",
        "else:\n",
        "  output = 0\n",
        "\n",
        "#重みの更新が必要ないとき\n",
        "if output == 0 and y == 0:\n",
        "  print(\"適切な重みによりしきい値(0)を超えませんでした。ステップ関数による出力と正解ラベルが一致しています。\")\n",
        "  print(\"適切な重みは\",str(w),\"です。\")\n",
        "\n",
        "elif output == 1 and y == 1:\n",
        "  print(\"適切な重みによりしきい値(0)を超えました。ステップ関数による出力と正解ラベルが一致しています。\")\n",
        "  print(\"適切な重みは\",str(w),\"です。\")\n",
        "\n",
        "#重みの更新が必要なとき\n",
        "while output != y:\n",
        "  print(\"現在の重みは\",str(w),\"です。\")\n",
        "\n",
        "  weighted_sum = x[0]*w[0] + x[1]*w[1] + x[2]*w[2]\n",
        "  print(\"入力の重み付け総和は\",str(weighted_sum),\"です。\")\n",
        "\n",
        "  if weighted_sum > 0:\n",
        "    output = 1\n",
        "  else:\n",
        "    output = 0\n",
        "\n",
        "  #正解ラベルが1のとき\n",
        "  if output == 1 and y == 1:\n",
        "    print(\"適切な重みによりしきい値(0)を超えました。\"+\"ステップ関数による出力と正解ラベルが一致しています。\")\n",
        "    print(\"適切な重みは\",str(w),\"です。\")\n",
        "    break\n",
        "  elif output == 0 and y == 1:\n",
        "    print(\"不適切な重みによりしきい値(0)を超えませんでした。\"+\"学習率を\",str(p),\"として重みを更新します。\")\n",
        "    #重みの更新\n",
        "    w = w + p*x\n",
        "    print(\"重みを\",str(w),\"に更新しました。\\n\")\n",
        "\n",
        "  #正解ラベルが0のとき\n",
        "  elif output == 0 and y == 0:\n",
        "    print(\"適切な重みによりしきい値(0)を超えませんでした。\"+\"ステップ関数による出力と正解ラベルが一致しています。\")\n",
        "    print(\"適切な重みは\",str(w),\"です。\")\n",
        "    break\n",
        "  elif output == 1 and y == 0:\n",
        "    print(\"不適切な重みによりしきい値(0)を超えました。\"+\"学習率を\",str(p),\"として重みを更新します。\")\n",
        "    #重みの更新\n",
        "    w = w - p*x\n",
        "    print(\"重みを\",str(w),\"に更新しました。\\n\")"
      ]
    }
  ]
}